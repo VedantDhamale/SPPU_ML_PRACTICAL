





import pandas as pd
import seaborn as sns
from matplotlib import pyplot as plt
from sklearn.cluster import KMeans
from sklearn.preprocessing import LabelEncoder,StandardScaler
from sklearn.metrics import classification_report,accuracy_score
from sklearn.model_selection import train_test_split
from sklearn.ensemble import RandomForestClassifier


df=pd.read_csv('./Iris.csv')
# df=sns.load_dataset('iris')
df.head()
df1=df.copy()


df.head()


df.describe()


df['Species'].value_counts()


df.shape


df.dtypes


sns.countplot(data=df,x='Species',hue='Species')


sns.scatterplot(data=df,x="SepalLengthCm", y='SepalWidthCm',  hue="Species")


sns.scatterplot(data=df,x="PetalLengthCm", y='PetalWidthCm',  hue="Species")


sns.pairplot(df, hue='Species', size=2.5);


df.drop('Species',axis=1,inplace=True)
df.head()


# Standardize the data (optional but recommended for clustering)
scaler = StandardScaler()
scaled_data = scaler.fit_transform(df)


inertia = []  # Inertia is the sum of squared distances to the nearest cluster center


for k in range(1, 11):
    kmeans = KMeans(n_clusters=k, random_state=42)
    kmeans.fit(scaled_data)
    inertia.append(kmeans.inertia_)


plt.figure(figsize=(8, 5))
plt.plot(range(1, 11), inertia, marker='o', linestyle='--')
plt.xlabel("Number of Clusters")
plt.ylabel("Inertia (Sum of Squared Distances)")
plt.title("Elbow Method for Optimal Clusters")
plt.show()


optimal_k = 3
kmeans = KMeans(n_clusters=optimal_k, random_state=42)
df['Cluster'] = kmeans.fit_predict(scaled_data)


df


Cluster_cnt=df['Cluster'].value_counts()
plt.pie(Cluster_cnt, labels=Cluster_cnt.index, autopct='%1.1f%%', startangle=90)
plt.show()


# from sklearn.preprocessing import LabelEncoder

# enc = LabelEncoder()
# # y = enc.fit_transform(df['Species'])
# y = df['Species']
# y


# X = df.drop(columns=['Id', 'Species'], axis=1)
# X.head()


# from sklearn.model_selection import train_test_split

# X_train, X_test, y_train, y_test = train_test_split(X, y, test_size=0.3, random_state=42)


# # from sklearn.tree import DecisionTreeClassifier

# model = RandomForestClassifier()
# model.fit(X_train, y_train)
# model_pred=model.predict(X_test)
# print(f"accuracy: {accuracy_score(y_test,model_pred)}")


# cm = confusion_matrix(predict, y_test)
# plt.figure(figsize=(12, 6))
# sns.heatmap(cm, annot=True)
# plt.xlabel('Actual')
# plt.ylabel('Predict')



