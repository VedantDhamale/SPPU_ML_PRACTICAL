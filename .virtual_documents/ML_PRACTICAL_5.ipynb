


import pandas as pd
from sklearn.model_selection import train_test_split
from sklearn.ensemble import RandomForestClassifier
from sklearn.metrics import classification_report, confusion_matrix, accuracy_score
from sklearn.preprocessing import StandardScaler,LabelEncoder
import matplotlib.pyplot as plt
import seaborn as sns


df=pd.read_csv('car_evaluation.csv')
df


df.columns = ['buying', 'maint', 'doors', 'persons', 'lug_boot', 'safety', 'class']
df



df.isnull().sum()


df.dtypes


df.duplicated().sum()


le=LabelEncoder()
for col in df.columns:
    df[col] = le.fit_transform(df[col])


for col in df.columns:
    print(f"Column name: {col}")
    print(f"Unique values: {df[col].unique()}")
    print()


correlation_matrix = df.corr()
sns.heatmap(correlation_matrix, annot=True, cmap='coolwarm',fmt='.2f')


X = df.drop('class', axis=1)
y = df['class']


scaler = StandardScaler()
X_scaled = scaler.fit_transform(X)


X_train, X_test, y_train, y_test = train_test_split(X_scaled, y, test_size=0.3, random_state=42)


rf_classifier = RandomForestClassifier(n_estimators=100, random_state=42)

rf_classifier.fit(X_train, y_train)

y_pred = rf_classifier.predict(X_test)


print("\nClassification Report:")
print(classification_report(y_test, y_pred))

print("Accuracy Score:", accuracy_score(y_test, y_pred))



# Evaluate the model
print("Confusion Matrix:")
print(confusion_matrix(y_test, y_pred))


plt.figure(figsize=(10, 7))
sns.heatmap(confusion_matrix(y_test, y_pred), annot=True, fmt='d', cmap='Blues')
plt.title('Confusion Matrix')
plt.xlabel('Predicted Class')
plt.ylabel('True Class')
plt.show()



